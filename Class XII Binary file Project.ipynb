{
 "cells": [
  {
   "cell_type": "code",
   "execution_count": null,
   "metadata": {},
   "outputs": [],
   "source": [
    "# Creating Binary File\n",
    "#writing a dictionary object containg student database\n",
    "import pickle #  dump and load\n",
    "import os"
   ]
  },
  {
   "cell_type": "markdown",
   "metadata": {},
   "source": [
    "Python pickle module is used for serializing and de-serializing python object structures. The process to converts any kind of python objects (list, dict, etc.) into byte streams (0s and 1s) is called pickling or serialization or flattening or marshalling. We can converts the byte stream (generated through pickling) back into python objects by a process called as unpickling.\n",
    "\n",
    "Pickle Exceptions\n",
    "Exceptions raised while dealing with pickle module −\n",
    "EOFError: In case the end of file is detected, this exception is raised.\n",
    "\n",
    "The serialized (pickled) data can be stored in a byte string or a binary file. This module defines dumps() and loads() functions to pickle and unpickle data using byte string. For file based process, the module has dump() and load() function.\n"
   ]
  },
  {
   "cell_type": "code",
   "execution_count": null,
   "metadata": {},
   "outputs": [],
   "source": [
    "def create_rec():\n",
    "    f=open(\"student.dat\",\"wb\")  \n",
    "    ftxt=open(\"number.txt\",\"w\")\n",
    "    ftxt.write('0')   \n",
    "    ftxt.close()\n",
    "    admno=0\n",
    "    while True:   \n",
    "        d={}\n",
    "        admno+=1\n",
    "        l=[]\n",
    "        name=input(\"enter name: \")\n",
    "        l.append(name)\n",
    "        phno=input(\"enter phone no: \")\n",
    "        l.append(phno)\n",
    "        d[admno]=l   \n",
    "        print(d)\n",
    "        pickle.dump(d,f)\n",
    "        ch=input(\"do you want to enter more records(y/n): \")\n",
    "        if ch=='n' or ch=='N':\n",
    "            break\n",
    "    f.close()\n",
    "    ftxt=open(\"number.txt\",\"w\")\n",
    "    ftxt.write(str(admno))  \n",
    "    ftxt.close()"
   ]
  },
  {
   "cell_type": "code",
   "execution_count": null,
   "metadata": {},
   "outputs": [],
   "source": [
    "create_rec()"
   ]
  },
  {
   "cell_type": "code",
   "execution_count": null,
   "metadata": {},
   "outputs": [],
   "source": [
    "import pickle #  dump and load\n",
    "import os\n",
    "def append_rec():         #Append data onto Binary File\n",
    "    f=open(\"student.dat\",\"ab\")\n",
    "    if not os.path.isfile('number.txt'):\n",
    "        ftxt=open(\"number.txt\",\"w\")\n",
    "        ftxt.write('0')   \n",
    "        ftxt.close()\n",
    "    else:\n",
    "        ftxt=open(\"number.txt\",\"r+\")\n",
    "        admno=int(ftxt.read())  \n",
    "    while True:\n",
    "        d={}\n",
    "        admno=admno+1  \n",
    "        l=[]\n",
    "        name=input(\"enter name: \")\n",
    "        l.append(name)\n",
    "        phno=input(\"enter phone no: \")\n",
    "        l.append(phno)\n",
    "        d[admno]=l\n",
    "        print(d)\n",
    "        pickle.dump(d,f)\n",
    "        ch=input(\"do you want to enter more records(y/n): \")\n",
    "        if ch=='n' or ch=='N':\n",
    "            break\n",
    "    f.close()\n",
    "    ftxt.seek(0)\n",
    "    ftxt.write(str(admno))  \n",
    "    ftxt.close()"
   ]
  },
  {
   "cell_type": "code",
   "execution_count": null,
   "metadata": {},
   "outputs": [],
   "source": [
    "append_rec()"
   ]
  },
  {
   "cell_type": "code",
   "execution_count": 7,
   "metadata": {},
   "outputs": [],
   "source": [
    "import pickle #  dump and load\n",
    "import os\n",
    "def display_all_rec():\n",
    "    f=open(\"student.dat\",\"rb\") #{1:['ddsdf', 56757]}{}{}\n",
    "    try:\n",
    "        while True:\n",
    "            d=pickle.load(f) #EOFError\n",
    "            a=list(d.keys())# [1]  d[1]  d[a[0]][1]=['ede',4654]\n",
    "            print(\"The admno is{}, name is {}, phone no is {}\"\\\n",
    "                  .format(a[0],d[a[0]][0],d[a[0]][1]))\n",
    "            \n",
    "    except EOFError:print(\"file has come to an end\")\n",
    "    finally:f.close()"
   ]
  },
  {
   "cell_type": "code",
   "execution_count": 14,
   "metadata": {},
   "outputs": [
    {
     "name": "stdout",
     "output_type": "stream",
     "text": [
      "The admno is1, name is puja Gupta, phone no is 123\n",
      "The admno is3, name is srish, phone no is 456\n",
      "file has come to an end\n"
     ]
    }
   ],
   "source": [
    "display_all_rec()"
   ]
  },
  {
   "cell_type": "code",
   "execution_count": 9,
   "metadata": {},
   "outputs": [],
   "source": [
    "import pickle #  dump and load\n",
    "import os\n",
    "def delete_admno_rec():\n",
    "    f1=open(\"student.dat\",\"rb\")\n",
    "    f2=open(\"temp.dat\",\"wb\")\n",
    "    adm=int(input(\"enter admission no to delete\"))\n",
    "    flag=0\n",
    "    try:\n",
    "        while True:\n",
    "            d=pickle.load(f1)\n",
    "            if adm in d:\n",
    "                flag=1# found record\n",
    "            else:\n",
    "                pickle.dump(d,f2)#not matching record\n",
    "    except EOFError:\n",
    "        if flag==0: print(\"sorry admno to delete was not there\")\n",
    "    finally:\n",
    "        f1.close()\n",
    "        f2.close()\n"
   ]
  },
  {
   "cell_type": "code",
   "execution_count": 10,
   "metadata": {},
   "outputs": [
    {
     "name": "stdout",
     "output_type": "stream",
     "text": [
      "enter admission no to delete2\n"
     ]
    }
   ],
   "source": [
    "delete_admno_rec()"
   ]
  },
  {
   "cell_type": "code",
   "execution_count": 12,
   "metadata": {},
   "outputs": [],
   "source": [
    "import os\n",
    "os.remove(\"student.dat\")"
   ]
  },
  {
   "cell_type": "code",
   "execution_count": 13,
   "metadata": {},
   "outputs": [],
   "source": [
    "import os\n",
    "os.rename(\"temp.dat\",\"student.dat\")"
   ]
  },
  {
   "cell_type": "code",
   "execution_count": null,
   "metadata": {},
   "outputs": [],
   "source": [
    "import pickle #  dump and load\n",
    "import os\n",
    "def delete_name_rec():\n",
    "    f1=open(\"student.dat\",\"rb\")\n",
    "    f2=open(\"temp.dat\",\"wb\")\n",
    "    nm=input(\"enter name no to delete\")\n",
    "    flag=0\n",
    "    try:\n",
    "        while True:\n",
    "            d=pickle.load(f1)\n",
    "            for i in d:\n",
    "                x_name,y_phno=d[i]\n",
    "                if x_name.lower()==nm.lower():\n",
    "                    flag=1\n",
    "                else:\n",
    "                    pickle.dump(d,f2)\n",
    "    except EOFError:\n",
    "        if flag==0: \n",
    "            print(\"sorry name to delete was not there\")\n",
    "        else:\n",
    "            print(\"deleted record\")\n",
    "    finally:\n",
    "        f1.close()\n",
    "        f2.close()\n",
    "    os.remove(\"student.dat\")\n",
    "    os.rename(\"temp.dat\",\"student.dat\")"
   ]
  },
  {
   "cell_type": "code",
   "execution_count": null,
   "metadata": {},
   "outputs": [],
   "source": [
    "delete_name_rec()"
   ]
  },
  {
   "cell_type": "code",
   "execution_count": null,
   "metadata": {},
   "outputs": [],
   "source": [
    "import pickle #  dump and load\n",
    "import os\n",
    "def modify_name_rec():\n",
    "    f1=open(\"student.dat\",\"rb\")\n",
    "    f2=open(\"temp.dat\",\"wb\")\n",
    "    adm=int(input(\"enter admission no to search: \"))\n",
    "    nm=input(\"enter name no to changed: \")\n",
    "    flag=0\n",
    "    try:\n",
    "        while True:\n",
    "            d=pickle.load(f1)\n",
    "            if adm in d:\n",
    "                d[adm][0]=nm #update name in dictionary\n",
    "                flag=1\n",
    "                pickle.dump(d,f2)\n",
    "            else:\n",
    "                    pickle.dump(d,f2)\n",
    "            print(d)\n",
    "    except EOFError:\n",
    "        if flag==0: print(\"sorry admno whose name had to be changed \\\n",
    "        was not there\")\n",
    "    finally:\n",
    "        f1.close()\n",
    "        f2.close()\n",
    "    os.remove(\"student.dat\")\n",
    "    os.rename(\"temp.dat\",\"student.dat\")"
   ]
  },
  {
   "cell_type": "code",
   "execution_count": null,
   "metadata": {},
   "outputs": [],
   "source": [
    "display_all_rec()"
   ]
  },
  {
   "cell_type": "code",
   "execution_count": null,
   "metadata": {},
   "outputs": [],
   "source": [
    "modify_name_rec()"
   ]
  },
  {
   "cell_type": "code",
   "execution_count": null,
   "metadata": {},
   "outputs": [],
   "source": [
    "import pickle #  dump and load\n",
    "import os\n",
    "def search_rec():\n",
    "    if not os.path.isfile(\"student.dat\"):   \n",
    "        #checking whether file exists or not\n",
    "        print(\"sorry file not found\")\n",
    "    else:\n",
    "        f=open(\"student.dat\",\"rb\")\n",
    "        ph=input(\"enter phone no\")\n",
    "        flag=0\n",
    "        try:\n",
    "            while True:\n",
    "                d=pickle.load(f)\n",
    "                for i in d:\n",
    "                    if d[i][1]==ph:\n",
    "                        flag=1\n",
    "                        print(\"admno is\",i)\n",
    "                        print(\"The name is %s and phone no is %s\"%\\\n",
    "                              (d[i][0],d[i][1]))\n",
    "                \n",
    "        except EOFError:\n",
    "            if flag==0:\n",
    "                print(\"sorry phone no not found n the database\")\n",
    "        finally:f.close()"
   ]
  },
  {
   "cell_type": "code",
   "execution_count": null,
   "metadata": {},
   "outputs": [],
   "source": [
    "search_rec()"
   ]
  },
  {
   "cell_type": "code",
   "execution_count": null,
   "metadata": {},
   "outputs": [],
   "source": [
    "search_rec()"
   ]
  },
  {
   "cell_type": "code",
   "execution_count": null,
   "metadata": {},
   "outputs": [],
   "source": [
    "def main():\n",
    "    while True:\n",
    "        print(\" 1.Create\\n 2.Append\\n 3.Display\\n 4. Delete by admno\\n\\\n",
    " 5. Delete by name\\n 6. Modify name\\n 7. search by phone no\\n\\\n",
    " 8. Exit\")\n",
    "        ch=input(\"enter ur choice\")\n",
    "        if ch=='1':\n",
    "            create_rec()\n",
    "        elif ch=='2':\n",
    "            append_rec()\n",
    "        elif ch=='3':\n",
    "            display_all_rec()\n",
    "        elif ch=='4':delete_admno_rec()\n",
    "        elif ch=='5':delete_name_rec()\n",
    "        elif ch=='6':modify_name_rec()\n",
    "        elif ch=='7':search_rec()\n",
    "        elif ch=='8':break\n",
    "        else:\n",
    "            print(\"invalid choice\")\n",
    "main()"
   ]
  },
  {
   "cell_type": "code",
   "execution_count": null,
   "metadata": {},
   "outputs": [],
   "source": [
    "#checking the validity of date entered by the user using datetime module\n",
    "import datetime\n",
    "while True:\n",
    "    inputDate = input(\"Enter the date in format 'dd/mm/yy' : \")\n",
    "    day,month,year = inputDate.split('/')\n",
    "    isValidDate = True\n",
    "    try :\n",
    "        datetime.datetime(int(year),int(month),int(day))\n",
    "        #it will give ValueError if its incorrect date\n",
    "    except ValueError :\n",
    "        isValidDate = False\n",
    "    if(isValidDate) :\n",
    "        print (\"Input date is valid \")\n",
    "        break\n",
    "    else :\n",
    "        print (\"Input date is not valid. Enter details again\")"
   ]
  },
  {
   "cell_type": "code",
   "execution_count": 1,
   "metadata": {},
   "outputs": [
    {
     "name": "stdout",
     "output_type": "stream",
     "text": [
      "enter car no1\n",
      "enter mileage24\n",
      "write morey\n",
      "enter car no2\n",
      "enter mileage19\n",
      "write moren\n"
     ]
    }
   ],
   "source": [
    "import pickle\n",
    "import os\n",
    "f=open(\"puj.dat\",'wb')\n",
    "\n",
    "while True:\n",
    "    s=''\n",
    "    cno=input(\"enter car no\")\n",
    "    cm=int(input(\"enter mileage\"))\n",
    "    s=cno+','+str(cm)\n",
    "    pickle.dump(s,f)\n",
    "    ch=input(\"write more\")\n",
    "    if ch.lower()==\"n\":\n",
    "        break\n",
    "f.close()"
   ]
  },
  {
   "cell_type": "code",
   "execution_count": 4,
   "metadata": {},
   "outputs": [
    {
     "name": "stdout",
     "output_type": "stream",
     "text": [
      "['1', '12']\n",
      "['2', '34']\n"
     ]
    }
   ],
   "source": [
    "f=open(\"puj.dat\",\"rb\")\n",
    "flag=0\n",
    "try:\n",
    "            while True:\n",
    "                s=pickle.load(f)  #2,11\n",
    "                l=s.split(',')# ['2','11']\n",
    "                if int(l[1])<=50:\n",
    "                    flag=1\n",
    "                    print(l)\n",
    "except EOFError:\n",
    "            if flag==0: print(\"no such record with mileage >120\")\n",
    "finally:f.close()"
   ]
  },
  {
   "cell_type": "code",
   "execution_count": 10,
   "metadata": {},
   "outputs": [],
   "source": [
    "#delete a record  \n",
    "#xerror: 0.345\n",
    "#jhfgdsj fj\n",
    "#xerror: 0.45\n",
    "f=open(\"puj.dat\",\"rb\")\n",
    "f1=open(\"temp.dat\",\"wb\")\n",
    "try:\n",
    "            while True:\n",
    "                s=pickle.load(f)  \n",
    "                l=s.split(',')\n",
    "                if int(l[1])>=120:\n",
    "                    pass\n",
    "                else:\n",
    "                    pickle.dump(s,f1)\n",
    "except EOFError:\n",
    "            pass\n",
    "finally:\n",
    "    f.close()\n",
    "    f1.close()\n",
    "os.remove(\"puj.dat\")\n",
    "os.rename(\"temp.dat\",\"puj.dat\")"
   ]
  },
  {
   "cell_type": "code",
   "execution_count": 5,
   "metadata": {},
   "outputs": [
    {
     "name": "stdout",
     "output_type": "stream",
     "text": [
      "enter car no1\n",
      "enter mileage13\n",
      "write morey\n",
      "enter car no2\n",
      "enter mileage145\n",
      "write moren\n"
     ]
    }
   ],
   "source": [
    "#if data is in the format of list\n",
    "import pickle\n",
    "import os\n",
    "f=open(\"puj.dat\",'wb')\n",
    "\n",
    "while True:\n",
    "    l=[]\n",
    "    cno=input(\"enter car no\")\n",
    "    l.append(cno)\n",
    "    cm=int(input(\"enter mileage\"))\n",
    "    l.append(cm)\n",
    "    pickle.dump(l,f)\n",
    "    ch=input(\"write more\")\n",
    "    if ch.lower()==\"n\":\n",
    "        break\n",
    "f.close()"
   ]
  },
  {
   "cell_type": "code",
   "execution_count": 6,
   "metadata": {},
   "outputs": [
    {
     "name": "stdout",
     "output_type": "stream",
     "text": [
      "['2', 145]\n"
     ]
    }
   ],
   "source": [
    "#asssuming data is in a form of list, searching a record with mileage >=120\n",
    "f=open(\"puj.dat\",\"rb\")\n",
    "flag=0\n",
    "try:\n",
    "            while True:\n",
    "                l=pickle.load(f)  \n",
    "                if l[1]>=120:\n",
    "                    flag=1\n",
    "                    print(l)\n",
    "except EOFError:\n",
    "            if flag==0: print(\"no such record with mileage >120\")\n",
    "finally:f.close()"
   ]
  },
  {
   "cell_type": "code",
   "execution_count": 7,
   "metadata": {},
   "outputs": [
    {
     "name": "stdout",
     "output_type": "stream",
     "text": [
      "enter car no1\n",
      "enter mileage345\n",
      "write morey\n",
      "enter car no2\n",
      "enter mileage22\n",
      "write moren\n"
     ]
    }
   ],
   "source": [
    "#writing data,if data is in the format of dictionary\n",
    "import pickle\n",
    "import os\n",
    "f=open(\"puj.dat\",'wb')\n",
    "while True:\n",
    "    d=dict()\n",
    "    cno=input(\"enter car no\")\n",
    "    cm=int(input(\"enter mileage\"))\n",
    "    d[cno]=cm\n",
    "    pickle.dump(d,f)\n",
    "    ch=input(\"write more\")\n",
    "    if ch.lower()==\"n\":\n",
    "        break\n",
    "f.close()"
   ]
  },
  {
   "cell_type": "code",
   "execution_count": 8,
   "metadata": {},
   "outputs": [
    {
     "name": "stdout",
     "output_type": "stream",
     "text": [
      "1 345\n"
     ]
    }
   ],
   "source": [
    "#reading data,if data is in the format of dictionary\n",
    "f=open(\"puj.dat\",\"rb\")\n",
    "flag=0\n",
    "try:\n",
    "            while True:\n",
    "                d=pickle.load(f)  \n",
    "                for i in d:\n",
    "                    if d[i]>=120:\n",
    "                        flag=1\n",
    "                        print(i,d[i])\n",
    "except EOFError:\n",
    "            if flag==0: print(\"no such record with mileage >120\")\n",
    "finally:f.close()"
   ]
  },
  {
   "cell_type": "code",
   "execution_count": null,
   "metadata": {},
   "outputs": [],
   "source": []
  }
 ],
 "metadata": {
  "kernelspec": {
   "display_name": "Python 3",
   "language": "python",
   "name": "python3"
  },
  "language_info": {
   "codemirror_mode": {
    "name": "ipython",
    "version": 3
   },
   "file_extension": ".py",
   "mimetype": "text/x-python",
   "name": "python",
   "nbconvert_exporter": "python",
   "pygments_lexer": "ipython3",
   "version": "3.7.3"
  }
 },
 "nbformat": 4,
 "nbformat_minor": 2
}
